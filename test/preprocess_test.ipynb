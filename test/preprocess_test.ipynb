{
 "cells": [
  {
   "cell_type": "code",
   "execution_count": 1,
   "id": "cfec8a86",
   "metadata": {
    "pycharm": {
     "name": "#%%\n"
    }
   },
   "outputs": [],
   "source": [
    "# 필요한 모듈 임포트\n",
    "from utils.Preprocess import Preprocess"
   ]
  },
  {
   "cell_type": "code",
   "execution_count": 2,
   "outputs": [
    {
     "name": "stdout",
     "output_type": "stream",
     "text": [
      "[0.015s][warning][os,thread] Attempt to protect stack guard pages failed (0x000000016d8e8000-0x000000016d8f4000).\n",
      "[0.015s][warning][os,thread] Attempt to deallocate stack guard pages failed.\n",
      "[('1시', 'NNG'), ('공원', 'NNP'), ('앞', 'NNG'), ('보', 'VX')]\n",
      "['1시', '공원', '앞', '보']\n"
     ]
    }
   ],
   "source": [
    "sent = \"1시에 공원 앞에서 볼래?\"\n",
    "\n",
    "# 전처리 객체 생성\n",
    "p = Preprocess(userdic='../utils/user_dic.tsv')\n",
    "\n",
    "# 형태소 분석기 실행\n",
    "pos = p.pos(sent)\n",
    "\n",
    "# 품새 태그와 같이 키워드 풀력\n",
    "ret = p.get_keywords(pos, without_tag=False)\n",
    "print(ret)\n",
    "\n",
    "# 품사 태그 없이 키워드 출력\n",
    "ret = p.get_keywords(pos, without_tag=True)\n",
    "print(ret)"
   ],
   "metadata": {
    "collapsed": false,
    "pycharm": {
     "name": "#%%\n"
    }
   }
  }
 ],
 "metadata": {
  "kernelspec": {
   "display_name": "Python 3 (ipykernel)",
   "language": "python",
   "name": "python3"
  },
  "language_info": {
   "codemirror_mode": {
    "name": "ipython",
    "version": 3
   },
   "file_extension": ".py",
   "mimetype": "text/x-python",
   "name": "python",
   "nbconvert_exporter": "python",
   "pygments_lexer": "ipython3",
   "version": "3.8.13"
  }
 },
 "nbformat": 4,
 "nbformat_minor": 5
}